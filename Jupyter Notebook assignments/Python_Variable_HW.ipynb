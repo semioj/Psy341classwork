{
 "cells": [
  {
   "cell_type": "markdown",
   "id": "a4755f03",
   "metadata": {},
   "source": [
    "# Variables homework"
   ]
  },
  {
   "cell_type": "markdown",
   "id": "a519fdac",
   "metadata": {},
   "source": [
    "Advice for homework and life: try, play, experiment; don't Google until you get frustrated.\n",
    "\n",
    "You can't break anything with Python, so, if you want to figure something out, try until you get it to work. You'll learn more and you'll remember it longer and more deeply. "
   ]
  },
  {
   "cell_type": "markdown",
   "id": "935435c3",
   "metadata": {},
   "source": [
    "---"
   ]
  },
  {
   "cell_type": "markdown",
   "id": "672eb676",
   "metadata": {},
   "source": [
    "In general, the homework question will consist of the question in a markdown cell, a code cell for you to play in, repeating as needed,  and a final markdown cell for your answer or explanation *that will be in italics*.\n",
    "\n",
    "But do feel free to add or delete cells as you feel appropriate. The important thing is you get your point across!"
   ]
  },
  {
   "cell_type": "markdown",
   "id": "fd5a0577",
   "metadata": {},
   "source": [
    "---"
   ]
  },
  {
   "cell_type": "markdown",
   "id": "8cac38b8",
   "metadata": {},
   "source": [
    "### 1."
   ]
  },
  {
   "cell_type": "markdown",
   "id": "41ebcb4a",
   "metadata": {},
   "source": [
    "Make an integer: `theAnswer = 42`.\n",
    "Now make another: `anotherNameForTheAnswer = 42`\n",
    "(You don't have to use these exactly, but make sure you have two different names referring to the same exact value.)"
   ]
  },
  {
   "cell_type": "code",
   "execution_count": 1,
   "id": "792d077c",
   "metadata": {
    "tags": []
   },
   "outputs": [],
   "source": [
    "answer = 30 \n",
    "anotheranswer = 30\n"
   ]
  },
  {
   "cell_type": "markdown",
   "id": "110df7e7",
   "metadata": {},
   "source": [
    "Get and note the ID numbers for both."
   ]
  },
  {
   "cell_type": "code",
   "execution_count": 2,
   "id": "0bca1e61",
   "metadata": {
    "tags": []
   },
   "outputs": [
    {
     "data": {
      "text/plain": [
       "140715629778632"
      ]
     },
     "execution_count": 2,
     "metadata": {},
     "output_type": "execute_result"
    }
   ],
   "source": [
    "id(answer)"
   ]
  },
  {
   "cell_type": "code",
   "execution_count": 3,
   "id": "bcfab9d5-4d9a-47e4-8e03-5e9cb4e375e0",
   "metadata": {
    "tags": []
   },
   "outputs": [
    {
     "data": {
      "text/plain": [
       "140715629778632"
      ]
     },
     "execution_count": 3,
     "metadata": {},
     "output_type": "execute_result"
    }
   ],
   "source": [
    "id(anotheranswer)"
   ]
  },
  {
   "cell_type": "markdown",
   "id": "3b3616a6",
   "metadata": {},
   "source": [
    "Assign each name to a completely different number and confirm that each name now refers to an object with a new ID."
   ]
  },
  {
   "cell_type": "code",
   "execution_count": 5,
   "id": "19c87f48",
   "metadata": {
    "tags": []
   },
   "outputs": [],
   "source": [
    "answer = 10 \n",
    "anotheranswer = 15 "
   ]
  },
  {
   "cell_type": "code",
   "execution_count": 6,
   "id": "7c52ff23-e5e4-4c9a-b525-01cf4dff3752",
   "metadata": {
    "tags": []
   },
   "outputs": [
    {
     "data": {
      "text/plain": [
       "140715629777992"
      ]
     },
     "execution_count": 6,
     "metadata": {},
     "output_type": "execute_result"
    }
   ],
   "source": [
    "id(answer)"
   ]
  },
  {
   "cell_type": "code",
   "execution_count": 7,
   "id": "e067371f-5138-4124-9bc8-924a33a1fe21",
   "metadata": {
    "tags": []
   },
   "outputs": [
    {
     "data": {
      "text/plain": [
       "140715629778152"
      ]
     },
     "execution_count": 7,
     "metadata": {},
     "output_type": "execute_result"
    }
   ],
   "source": [
    "id(anotheranswer)"
   ]
  },
  {
   "cell_type": "markdown",
   "id": "a6d1c613",
   "metadata": {},
   "source": [
    "Do a `whos` to confirm that *no* names refer to the original value."
   ]
  },
  {
   "cell_type": "code",
   "execution_count": 8,
   "id": "26921f75",
   "metadata": {
    "tags": []
   },
   "outputs": [
    {
     "name": "stdout",
     "output_type": "stream",
     "text": [
      "No variables match your requested type.\n"
     ]
    }
   ],
   "source": [
    "whos(answer)"
   ]
  },
  {
   "cell_type": "code",
   "execution_count": 9,
   "id": "96ada5f7-c070-4d04-b50e-915d758210af",
   "metadata": {
    "tags": []
   },
   "outputs": [
    {
     "name": "stdout",
     "output_type": "stream",
     "text": [
      "No variables match your requested type.\n"
     ]
    }
   ],
   "source": [
    "whos(anotheranswer)"
   ]
  },
  {
   "cell_type": "markdown",
   "id": "329c40f1",
   "metadata": {},
   "source": [
    "Finally, assign a new name to the original value, and get its ID."
   ]
  },
  {
   "cell_type": "code",
   "execution_count": 10,
   "id": "6d8e21a3",
   "metadata": {
    "tags": []
   },
   "outputs": [],
   "source": [
    "newagain = 30"
   ]
  },
  {
   "cell_type": "code",
   "execution_count": 11,
   "id": "4b1ed0e0-3f60-4890-bf48-7f62cfd43641",
   "metadata": {
    "tags": []
   },
   "outputs": [
    {
     "data": {
      "text/plain": [
       "140715629778632"
      ]
     },
     "execution_count": 11,
     "metadata": {},
     "output_type": "execute_result"
    }
   ],
   "source": [
    "id(newagain)"
   ]
  },
  {
   "cell_type": "markdown",
   "id": "005730a3",
   "metadata": {},
   "source": [
    "*Look at this ID and compare it to the original ones. What happened? What does this tell you?*\n",
    "\n",
    "The Id's stayed the same because the number is attached to this specific id no matter the variable name."
   ]
  },
  {
   "cell_type": "markdown",
   "id": "022dd79c",
   "metadata": {},
   "source": [
    "---"
   ]
  },
  {
   "cell_type": "markdown",
   "id": "70b28d0b",
   "metadata": {},
   "source": [
    "### 2."
   ]
  },
  {
   "cell_type": "markdown",
   "id": "4016abc8",
   "metadata": {},
   "source": [
    "Convert both possible Boolean values to strings and print them."
   ]
  },
  {
   "cell_type": "code",
   "execution_count": 14,
   "id": "634b8733",
   "metadata": {
    "tags": []
   },
   "outputs": [
    {
     "data": {
      "text/plain": [
       "True"
      ]
     },
     "execution_count": 14,
     "metadata": {},
     "output_type": "execute_result"
    }
   ],
   "source": [
    "bool(\"True\")"
   ]
  },
  {
   "cell_type": "code",
   "execution_count": 16,
   "id": "afd46216-0545-45fd-8869-5ab1979bca34",
   "metadata": {
    "tags": []
   },
   "outputs": [
    {
     "data": {
      "text/plain": [
       "False"
      ]
     },
     "execution_count": 16,
     "metadata": {},
     "output_type": "execute_result"
    }
   ],
   "source": [
    "bool(\"\")"
   ]
  },
  {
   "cell_type": "markdown",
   "id": "fa273c8d",
   "metadata": {},
   "source": [
    "Now convert some strings to Boolean until you figure out \"the rule\"."
   ]
  },
  {
   "cell_type": "code",
   "execution_count": null,
   "id": "4c637ec5",
   "metadata": {},
   "outputs": [],
   "source": []
  },
  {
   "cell_type": "markdown",
   "id": "b2c5c4e8",
   "metadata": {},
   "source": [
    "*What string(s) convert to True and False? In other words, what is the rule for str -> bool conversion?*\n",
    "\n",
    "String that are true are anything with numbers or letters. Strings that are false are just blank."
   ]
  },
  {
   "cell_type": "markdown",
   "id": "9dc74072",
   "metadata": {},
   "source": [
    "---"
   ]
  },
  {
   "cell_type": "markdown",
   "id": "517c7fe1",
   "metadata": {},
   "source": [
    "### 3. "
   ]
  },
  {
   "cell_type": "markdown",
   "id": "f8fddb59",
   "metadata": {},
   "source": [
    "Make three variables:\n",
    "\n",
    "* a Boolean equal to True\n",
    "* an int (any int)\n",
    "* a float\n",
    "\n",
    "Try all combinations of adding two of the variables pairwise."
   ]
  },
  {
   "cell_type": "code",
   "execution_count": 17,
   "id": "86d384c9",
   "metadata": {
    "tags": []
   },
   "outputs": [
    {
     "data": {
      "text/plain": [
       "True"
      ]
     },
     "execution_count": 17,
     "metadata": {},
     "output_type": "execute_result"
    }
   ],
   "source": [
    "x = 5 < 10 \n",
    "bool(x)"
   ]
  },
  {
   "cell_type": "code",
   "execution_count": 18,
   "id": "2913420e-4a61-4471-9ef0-01373dc4d31a",
   "metadata": {
    "tags": []
   },
   "outputs": [],
   "source": [
    "lol = 60"
   ]
  },
  {
   "cell_type": "code",
   "execution_count": 19,
   "id": "f1958a93-248e-4a5d-9a33-d8feb309d175",
   "metadata": {
    "tags": []
   },
   "outputs": [],
   "source": [
    "onwater = 2.4"
   ]
  },
  {
   "cell_type": "markdown",
   "id": "db2ebd3c",
   "metadata": {},
   "source": [
    "*What is the rule for adding numbers of different types?*"
   ]
  },
  {
   "cell_type": "markdown",
   "id": "1ea9b7ea",
   "metadata": {},
   "source": [
    "---"
   ]
  },
  {
   "cell_type": "markdown",
   "id": "e1b9ed6c",
   "metadata": {},
   "source": [
    "### 4."
   ]
  },
  {
   "cell_type": "markdown",
   "id": "cf84dd90",
   "metadata": {},
   "source": [
    "Make an int (any int) and a string containing a number (e.g. num_str = '64'). Try\n",
    "\n",
    "* adding them\n",
    "* adding them converting the number to a string\n",
    "* adding them converting the string to a number"
   ]
  },
  {
   "cell_type": "code",
   "execution_count": null,
   "id": "18ed5b89",
   "metadata": {},
   "outputs": [],
   "source": []
  },
  {
   "cell_type": "markdown",
   "id": "5110c575",
   "metadata": {},
   "source": [
    "Try converting a `str` that is a spelled out number (like 'forty two') to an int."
   ]
  },
  {
   "cell_type": "code",
   "execution_count": null,
   "id": "3f8e8f20",
   "metadata": {},
   "outputs": [],
   "source": []
  },
  {
   "cell_type": "markdown",
   "id": "fd5707eb",
   "metadata": {},
   "source": [
    "*Did that work?*"
   ]
  },
  {
   "cell_type": "markdown",
   "id": "1dae4adc",
   "metadata": {},
   "source": [
    "---"
   ]
  },
  {
   "cell_type": "markdown",
   "id": "9d9f04c2",
   "metadata": {},
   "source": [
    "### 5. "
   ]
  },
  {
   "cell_type": "markdown",
   "id": "41cab9d3",
   "metadata": {},
   "source": [
    "Make a variable that is a 5 element tuple."
   ]
  },
  {
   "cell_type": "code",
   "execution_count": null,
   "id": "b7d56346",
   "metadata": {},
   "outputs": [],
   "source": []
  },
  {
   "cell_type": "markdown",
   "id": "e8c66a73",
   "metadata": {},
   "source": [
    "Extract the last 3 elements."
   ]
  },
  {
   "cell_type": "code",
   "execution_count": null,
   "id": "2e49c601",
   "metadata": {},
   "outputs": [],
   "source": []
  },
  {
   "cell_type": "markdown",
   "id": "47e21ef5",
   "metadata": {},
   "source": [
    "---"
   ]
  },
  {
   "cell_type": "markdown",
   "id": "158ffef3",
   "metadata": {},
   "source": [
    "### 6. "
   ]
  },
  {
   "cell_type": "markdown",
   "id": "448bfa55",
   "metadata": {},
   "source": [
    "Make two variables containing tuples (you can create one and re-use the one from #5). Add them using \"+\"."
   ]
  },
  {
   "cell_type": "code",
   "execution_count": null,
   "id": "5d681205",
   "metadata": {},
   "outputs": [],
   "source": []
  },
  {
   "cell_type": "markdown",
   "id": "119c9a85",
   "metadata": {},
   "source": [
    "Make two list variables and add them."
   ]
  },
  {
   "cell_type": "code",
   "execution_count": null,
   "id": "0b72465e",
   "metadata": {},
   "outputs": [],
   "source": []
  },
  {
   "cell_type": "markdown",
   "id": "23ed3aa7",
   "metadata": {},
   "source": [
    "Try adding one of your tuples to one of your lists."
   ]
  },
  {
   "cell_type": "code",
   "execution_count": null,
   "id": "187ba06d",
   "metadata": {},
   "outputs": [],
   "source": []
  },
  {
   "cell_type": "markdown",
   "id": "c22fff9f",
   "metadata": {},
   "source": [
    "*What happened? How does this compare to adding, say, a bool to a float?*"
   ]
  },
  {
   "cell_type": "markdown",
   "id": "24ceb313",
   "metadata": {},
   "source": [
    "---"
   ]
  },
  {
   "cell_type": "markdown",
   "id": "46be9eeb",
   "metadata": {},
   "source": [
    "### 7."
   ]
  },
  {
   "cell_type": "markdown",
   "id": "ed51a160",
   "metadata": {},
   "source": [
    "Can you tell the type of a variable by looking at its value?"
   ]
  },
  {
   "cell_type": "markdown",
   "id": "7b9d839a",
   "metadata": {},
   "source": [
    "*If so, how? A couple examples are fine; no need for an exhaustive list.*"
   ]
  },
  {
   "cell_type": "markdown",
   "id": "d9d4751a",
   "metadata": {},
   "source": [
    "---"
   ]
  },
  {
   "cell_type": "markdown",
   "id": "0e6d00d0",
   "metadata": {},
   "source": [
    "### 8."
   ]
  },
  {
   "cell_type": "markdown",
   "id": "fef795f0",
   "metadata": {},
   "source": [
    "Make a list variable in which one of the elements is itself a list (e.g. `myList = ['hi', [3, 5, 7, 11], False]`)."
   ]
  },
  {
   "cell_type": "code",
   "execution_count": null,
   "id": "397862a5",
   "metadata": {},
   "outputs": [],
   "source": []
  },
  {
   "cell_type": "markdown",
   "id": "6c9f9c01",
   "metadata": {},
   "source": [
    "Extract one element of the nested list - the list-within a list. Try it in two steps, by first extracting the nested list and assigning it to a new variable."
   ]
  },
  {
   "cell_type": "code",
   "execution_count": null,
   "id": "fb0d3c73",
   "metadata": {},
   "outputs": [],
   "source": []
  },
  {
   "cell_type": "markdown",
   "id": "2af6ccf6",
   "metadata": {},
   "source": [
    "Now see if you can do this in one step."
   ]
  },
  {
   "cell_type": "code",
   "execution_count": null,
   "id": "9c7617ec",
   "metadata": {},
   "outputs": [],
   "source": []
  },
  {
   "cell_type": "markdown",
   "id": "0554f1ab",
   "metadata": {},
   "source": [
    "---"
   ]
  },
  {
   "cell_type": "markdown",
   "id": "bc4dfb16",
   "metadata": {},
   "source": [
    "### 9."
   ]
  },
  {
   "cell_type": "markdown",
   "id": "942c18ed",
   "metadata": {},
   "source": [
    "Make a `dict` variable with two elements, one of which is a list."
   ]
  },
  {
   "cell_type": "code",
   "execution_count": null,
   "id": "eab04be2",
   "metadata": {},
   "outputs": [],
   "source": []
  },
  {
   "cell_type": "markdown",
   "id": "33671a6f",
   "metadata": {},
   "source": [
    "Extract a single element from the list-in-a-dict in one step."
   ]
  },
  {
   "cell_type": "code",
   "execution_count": null,
   "id": "d34db06d",
   "metadata": {},
   "outputs": [],
   "source": []
  },
  {
   "cell_type": "markdown",
   "id": "ad326e31",
   "metadata": {},
   "source": [
    "---"
   ]
  },
  {
   "cell_type": "markdown",
   "id": "3ee688b1",
   "metadata": {},
   "source": [
    "10."
   ]
  },
  {
   "cell_type": "markdown",
   "id": "d75d6e10",
   "metadata": {},
   "source": [
    "Make a list variable. Consider that each element of the list is logically an *object* in and of itself. Confirm that one or two of these list elements has its own unique ID number."
   ]
  },
  {
   "cell_type": "code",
   "execution_count": null,
   "id": "57e89abe",
   "metadata": {},
   "outputs": [],
   "source": []
  },
  {
   "cell_type": "markdown",
   "id": "a6dd53d9",
   "metadata": {},
   "source": [
    "If you extract an element from your list and assign it to a new variable, are the IDs the same, or is a new object created?"
   ]
  },
  {
   "cell_type": "markdown",
   "id": "c30af4e6",
   "metadata": {},
   "source": [
    "*Are the IDs the same, or is a new object created when you assigned the list element to new variable?*"
   ]
  },
  {
   "cell_type": "markdown",
   "id": "4a3df1f0",
   "metadata": {},
   "source": [
    "---"
   ]
  },
  {
   "cell_type": "markdown",
   "id": "954d5cb8",
   "metadata": {},
   "source": [
    "### 11."
   ]
  },
  {
   "cell_type": "markdown",
   "id": "d5aaa23b",
   "metadata": {},
   "source": [
    "Make a `str` variable containing the first 5 letters of the alphabet (e.g. `a2e = 'abcde'`). Check the ID of the second (index = 1) element (the 'b')."
   ]
  },
  {
   "cell_type": "code",
   "execution_count": null,
   "id": "eb1770d5",
   "metadata": {},
   "outputs": [],
   "source": []
  },
  {
   "cell_type": "markdown",
   "id": "fba510ba",
   "metadata": {},
   "source": [
    "Now make a `str` variable containing the letter 'b'. Check its ID."
   ]
  },
  {
   "cell_type": "code",
   "execution_count": null,
   "id": "7bd7560d",
   "metadata": {},
   "outputs": [],
   "source": []
  },
  {
   "cell_type": "markdown",
   "id": "8484a41a",
   "metadata": {},
   "source": [
    "*What happened?*"
   ]
  }
 ],
 "metadata": {
  "kernelspec": {
   "display_name": "Python 3 (ipykernel)",
   "language": "python",
   "name": "python3"
  },
  "language_info": {
   "codemirror_mode": {
    "name": "ipython",
    "version": 3
   },
   "file_extension": ".py",
   "mimetype": "text/x-python",
   "name": "python",
   "nbconvert_exporter": "python",
   "pygments_lexer": "ipython3",
   "version": "3.11.4"
  }
 },
 "nbformat": 4,
 "nbformat_minor": 5
}
