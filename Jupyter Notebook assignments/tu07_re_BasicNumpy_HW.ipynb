{
 "cells": [
  {
   "cell_type": "markdown",
   "id": "1f1534b9",
   "metadata": {},
   "source": [
    "# Numpy review homework"
   ]
  },
  {
   "cell_type": "markdown",
   "id": "4db19bcf",
   "metadata": {},
   "source": [
    "1. Make a numpy matrix from a Python list of lists..."
   ]
  },
  {
   "cell_type": "code",
   "execution_count": 3,
   "id": "8159a738-9a80-4453-90c3-f208a6158ec5",
   "metadata": {
    "tags": []
   },
   "outputs": [],
   "source": [
    "import numpy as np"
   ]
  },
  {
   "cell_type": "code",
   "execution_count": 6,
   "id": "ed8c9baf-bfe1-443a-9f83-57f5e07f1110",
   "metadata": {
    "tags": []
   },
   "outputs": [],
   "source": [
    "numpslist = [[1.2, 2.3, 3.4, 4.5], [1.3,2.4,3.5,4.6], [1.4,2.5,3.6,4.7], [1.5,2.6,3.7,4.8]]\n",
    "anothermatrix = np.array(numpslist)"
   ]
  },
  {
   "cell_type": "markdown",
   "id": "dd6e8ffb",
   "metadata": {},
   "source": [
    "2. Make a 3D numpy matrix from a Python list of lists of lists!"
   ]
  },
  {
   "cell_type": "code",
   "execution_count": 8,
   "id": "c977766b",
   "metadata": {
    "tags": []
   },
   "outputs": [
    {
     "data": {
      "text/plain": [
       "[[1.2, 2.3, 3.4, 4.5],\n",
       " [1.3, 2.4, 3.5, 4.6],\n",
       " [1.4, 2.5, 3.6, 4.7],\n",
       " [1.5, 2.6, 3.7, 4.8]]"
      ]
     },
     "execution_count": 8,
     "metadata": {},
     "output_type": "execute_result"
    }
   ],
   "source": [
    "numpslist"
   ]
  },
  {
   "cell_type": "markdown",
   "id": "8ad64691",
   "metadata": {},
   "source": [
    "3. Create a 5x3 array of Gaussian random numbers. "
   ]
  },
  {
   "cell_type": "code",
   "execution_count": 11,
   "id": "5f280edc",
   "metadata": {
    "tags": []
   },
   "outputs": [
    {
     "name": "stdout",
     "output_type": "stream",
     "text": [
      "[[ 1.76175652  0.12367195 -0.19305164]\n",
      " [-1.47324704  0.98224129 -0.82755152]\n",
      " [ 0.33569089  0.7079573   0.38112761]\n",
      " [ 0.40138605 -0.98644505 -0.33143813]\n",
      " [-1.78121689  0.0811682  -0.79618247]]\n"
     ]
    }
   ],
   "source": [
    "randomly = np.random.randn(5,3)\n",
    "print(randomly)"
   ]
  },
  {
   "cell_type": "markdown",
   "id": "d129639e",
   "metadata": {},
   "source": [
    "4. Write a script to go through the array created in 3. and announce (print) the value and its row and column indexes.\n",
    "\n",
    "Hint: Use nested `for` loops - one to loop through the rows and one to loop through the columns."
   ]
  },
  {
   "cell_type": "code",
   "execution_count": 14,
   "id": "5305b549-6b4f-40aa-a855-84f54fed9493",
   "metadata": {
    "tags": []
   },
   "outputs": [
    {
     "data": {
      "text/plain": [
       "-0.19305163508648487"
      ]
     },
     "execution_count": 14,
     "metadata": {},
     "output_type": "execute_result"
    }
   ],
   "source": [
    "randomly[0,2]"
   ]
  },
  {
   "cell_type": "code",
   "execution_count": 62,
   "id": "714fc05c-bf5a-4b66-938b-dbe26d6d8243",
   "metadata": {
    "tags": []
   },
   "outputs": [
    {
     "name": "stdout",
     "output_type": "stream",
     "text": [
      "Value: 1.761756524041944, Row: 0, Column: 0\n",
      "Value: 0.12367195081193122, Row: 0, Column: 1\n",
      "Value: -0.19305163508648487, Row: 0, Column: 2\n",
      "Value: -1.4732470374056654, Row: 1, Column: 0\n",
      "Value: 0.9822412881731639, Row: 1, Column: 1\n",
      "Value: -0.8275515190454872, Row: 1, Column: 2\n",
      "Value: 0.3356908926541821, Row: 2, Column: 0\n",
      "Value: 0.7079573047092321, Row: 2, Column: 1\n",
      "Value: 0.3811276051322985, Row: 2, Column: 2\n",
      "Value: 0.4013860529849249, Row: 3, Column: 0\n",
      "Value: -0.986445047331857, Row: 3, Column: 1\n",
      "Value: -0.3314381332405502, Row: 3, Column: 2\n",
      "Value: -1.7812168918901488, Row: 4, Column: 0\n",
      "Value: 0.0811681951551125, Row: 4, Column: 1\n",
      "Value: -0.7961824657668916, Row: 4, Column: 2\n"
     ]
    }
   ],
   "source": [
    "rows, cols = randomly.shape\n",
    "\n",
    "for a in range(rows):\n",
    "    for b in range(cols):\n",
    "        print(f\"Value: {randomly[a, b]}, Row: {a}, Column: {b}\")"
   ]
  },
  {
   "cell_type": "markdown",
   "id": "2f6c8094",
   "metadata": {},
   "source": [
    "5. Make an new array out of your random numbers such that the mean is 10 and the standard deviation is 3."
   ]
  },
  {
   "cell_type": "code",
   "execution_count": 55,
   "id": "a501ba1b-bd7e-44fe-82f4-7173389d934e",
   "metadata": {
    "tags": []
   },
   "outputs": [
    {
     "name": "stdout",
     "output_type": "stream",
     "text": [
      "Adjusted Array with Mean 10 and Standard Deviation 3:\n",
      "[[16.1142862  10.75646906  9.72053533]\n",
      " [ 5.53329556 13.56466199  7.64522469]\n",
      " [11.44993675 12.66753894 11.59855032]\n",
      " [11.66481128  7.12551863  9.2679033 ]\n",
      " [ 4.52599338 10.61744855  7.74782601]]\n"
     ]
    }
   ],
   "source": [
    "mean_org = np.mean(randomly)\n",
    "std_org = np.std(randomly)\n",
    "\n",
    "wantedmean = 10\n",
    "wantedstd = 3\n",
    "\n",
    "adjustedlist = [(num - mean_org) * (wantedstd / std_org) + wantedmean for num in randomly]\n",
    "\n",
    "adjustedarray = np.array(adjustedlist)\n",
    "\n",
    "print(\"Adjusted Array with Mean 10 and Standard Deviation 3:\")\n",
    "print(adjustedarray)"
   ]
  },
  {
   "cell_type": "markdown",
   "id": "431e4556",
   "metadata": {},
   "source": [
    "6. Count the number of values in your new array that are below 7."
   ]
  },
  {
   "cell_type": "code",
   "execution_count": 56,
   "id": "80cb12c5",
   "metadata": {
    "tags": []
   },
   "outputs": [
    {
     "name": "stdout",
     "output_type": "stream",
     "text": [
      "2\n"
     ]
    }
   ],
   "source": [
    "below7 = (adjustedarray <7).sum()\n",
    "print(below7)"
   ]
  },
  {
   "cell_type": "markdown",
   "id": "f7191a90",
   "metadata": {},
   "source": [
    "7. Make a numpy sequence that has the even numbers from 2 up to (and including) 20."
   ]
  },
  {
   "cell_type": "code",
   "execution_count": 57,
   "id": "23277d0c",
   "metadata": {
    "tags": []
   },
   "outputs": [
    {
     "name": "stdout",
     "output_type": "stream",
     "text": [
      "Even numbers from 2-20 :\n",
      "[ 2  4  6  8 10 12 14 16 18 20]\n"
     ]
    }
   ],
   "source": [
    "even_numbers = np.arange(2, 21, 2)\n",
    "\n",
    "print(\"Even numbers from 2-20 :\")\n",
    "print(even_numbers)"
   ]
  },
  {
   "cell_type": "markdown",
   "id": "40bd499e",
   "metadata": {},
   "source": [
    "8. Get the second and third rows of your array created in #5."
   ]
  },
  {
   "cell_type": "code",
   "execution_count": 58,
   "id": "1abb0c7b",
   "metadata": {
    "tags": []
   },
   "outputs": [
    {
     "name": "stdout",
     "output_type": "stream",
     "text": [
      "[[ 5.53329556 13.56466199  7.64522469]\n",
      " [11.44993675 12.66753894 11.59855032]]\n"
     ]
    }
   ],
   "source": [
    "print(adjustedarray[1:3])"
   ]
  },
  {
   "cell_type": "markdown",
   "id": "1c3779c3",
   "metadata": {},
   "source": [
    "9. Compute the mean of the columns of your array created in #5."
   ]
  },
  {
   "cell_type": "code",
   "execution_count": 59,
   "id": "665b0b95-0205-4a2a-a7b9-f6b1d9bbce46",
   "metadata": {
    "tags": []
   },
   "outputs": [
    {
     "name": "stdout",
     "output_type": "stream",
     "text": [
      "Mean of the columns:\n",
      "[ 9.85766464 10.94632743  9.19600793]\n"
     ]
    }
   ],
   "source": [
    "column_means = np.mean(adjustedarray, axis=0)\n",
    "\n",
    "print(\"Mean of the columns:\")\n",
    "print(column_means)"
   ]
  }
 ],
 "metadata": {
  "kernelspec": {
   "display_name": "Python 3 (ipykernel)",
   "language": "python",
   "name": "python3"
  },
  "language_info": {
   "codemirror_mode": {
    "name": "ipython",
    "version": 3
   },
   "file_extension": ".py",
   "mimetype": "text/x-python",
   "name": "python",
   "nbconvert_exporter": "python",
   "pygments_lexer": "ipython3",
   "version": "3.11.4"
  }
 },
 "nbformat": 4,
 "nbformat_minor": 5
}
